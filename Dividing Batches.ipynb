{
 "cells": [
  {
   "cell_type": "code",
   "execution_count": 3,
   "id": "8911557e-05de-478a-9aba-844eb261523f",
   "metadata": {},
   "outputs": [
    {
     "name": "stdout",
     "output_type": "stream",
     "text": [
      "        Time (h)  Aeration rate(Fg:L/h)  Agitator RPM(RPM:RPM)  \\\n",
      "0            0.2                     30                    100   \n",
      "1            0.4                     30                    100   \n",
      "2            0.6                     30                    100   \n",
      "3            0.8                     30                    100   \n",
      "4            1.0                     30                    100   \n",
      "...          ...                    ...                    ...   \n",
      "113930     229.2                     65                    100   \n",
      "113931     229.4                     65                    100   \n",
      "113932     229.6                     65                    100   \n",
      "113933     229.8                     65                    100   \n",
      "113934     230.0                     65                    100   \n",
      "\n",
      "        Sugar feed rate(Fs:L/h)  Acid flow rate(Fa:L/h)  \\\n",
      "0                             8                  0.0000   \n",
      "1                             8                  0.0000   \n",
      "2                             8                  0.0000   \n",
      "3                             8                  0.0000   \n",
      "4                             8                  0.5181   \n",
      "...                         ...                     ...   \n",
      "113930                       80                  0.0000   \n",
      "113931                       80                  0.0000   \n",
      "113932                       80                  0.0000   \n",
      "113933                       80                  0.0000   \n",
      "113934                       80                  0.0000   \n",
      "\n",
      "        Base flow rate(Fb:L/h)  Heating/cooling water flow rate(Fc:L/h)  \\\n",
      "0                      30.1180                                   9.8335   \n",
      "1                      51.2210                                  18.1550   \n",
      "2                      54.3020                                   9.5982   \n",
      "3                      37.8160                                   4.3395   \n",
      "4                      18.9080                                   1.1045   \n",
      "...                        ...                                      ...   \n",
      "113930                 12.9000                                  33.5860   \n",
      "113931                 10.0470                                  10.0760   \n",
      "113932                  7.3609                                  69.3450   \n",
      "113933                  6.2794                                  38.6100   \n",
      "113934                  7.3055                                  11.5830   \n",
      "\n",
      "        Heating water flow rate(Fh:L/h)  Water for injection/dilution(Fw:L/h)  \\\n",
      "0                               0.00010                                     0   \n",
      "1                               0.00010                                     0   \n",
      "2                               0.00010                                     0   \n",
      "3                               0.00010                                     0   \n",
      "4                               0.00010                                     0   \n",
      "...                                 ...                                   ...   \n",
      "113930                          5.93590                                   250   \n",
      "113931                         98.83400                                   250   \n",
      "113932                          9.88340                                   250   \n",
      "113933                          0.98834                                   250   \n",
      "113934                         67.53600                                   250   \n",
      "\n",
      "        Air head pressure(pressure:bar)  ...       210       209       208  \\\n",
      "0                                   0.6  ...       0.0       0.0       0.0   \n",
      "1                                   0.6  ...       0.0       0.0       0.0   \n",
      "2                                   0.6  ...       0.0       0.0       0.0   \n",
      "3                                   0.6  ...       0.0       0.0       0.0   \n",
      "4                                   0.6  ...       0.0       0.0       0.0   \n",
      "...                                 ...  ...       ...       ...       ...   \n",
      "113930                              0.9  ...  816050.0  823390.0  830160.0   \n",
      "113931                              0.9  ...  773520.0  780840.0  787470.0   \n",
      "113932                              0.9  ...  788240.0  795550.0  802190.0   \n",
      "113933                              0.9  ...  781180.0  788420.0  794950.0   \n",
      "113934                              0.9  ...  778800.0  785950.0  792440.0   \n",
      "\n",
      "             207       206       205       204       203  202  201  \n",
      "0            0.0       0.0       0.0       0.0       0.0  NaN  NaN  \n",
      "1            0.0       0.0       0.0       0.0       0.0  NaN  NaN  \n",
      "2            0.0       0.0       0.0       0.0       0.0  NaN  NaN  \n",
      "3            0.0       0.0       0.0       0.0       0.0  NaN  NaN  \n",
      "4            0.0       0.0       0.0       0.0       0.0  NaN  NaN  \n",
      "...          ...       ...       ...       ...       ...  ...  ...  \n",
      "113930  835530.0  839140.0  840570.0  840160.0  838580.0  NaN  NaN  \n",
      "113931  792750.0  796220.0  797610.0  797270.0  796020.0  NaN  NaN  \n",
      "113932  807420.0  810590.0  811660.0  811210.0  809960.0  NaN  NaN  \n",
      "113933  800140.0  803610.0  804900.0  804490.0  803410.0  NaN  NaN  \n",
      "113934  797700.0  801130.0  802350.0  801770.0  799850.0  NaN  NaN  \n",
      "\n",
      "[113935 rows x 2239 columns]\n"
     ]
    }
   ],
   "source": [
    "import pandas as pd\n",
    "\n",
    "bdf = pd.read_csv('100_Batches_IndPenSim_V3.csv')\n",
    "\n",
    "# print(ohb)  # Displays the first 5 rows of the dataframe\n",
    "print(bdf)\n"
   ]
  },
  {
   "cell_type": "code",
   "execution_count": 4,
   "id": "b535d9f8",
   "metadata": {},
   "outputs": [
    {
     "name": "stdout",
     "output_type": "stream",
     "text": [
      "0           0.2\n",
      "1           0.4\n",
      "2           0.6\n",
      "3           0.8\n",
      "4           1.0\n",
      "          ...  \n",
      "113930    229.2\n",
      "113931    229.4\n",
      "113932    229.6\n",
      "113933    229.8\n",
      "113934    230.0\n",
      "Name: Time (h), Length: 113935, dtype: float64\n"
     ]
    }
   ],
   "source": [
    "print(bdf['Time (h)'])"
   ]
  },
  {
   "cell_type": "code",
   "execution_count": 5,
   "id": "4e2ef7e9",
   "metadata": {},
   "outputs": [
    {
     "name": "stdout",
     "output_type": "stream",
     "text": [
      "Index(['Time (h)', 'Aeration rate(Fg:L/h)', 'Agitator RPM(RPM:RPM)',\n",
      "       'Sugar feed rate(Fs:L/h)', 'Acid flow rate(Fa:L/h)',\n",
      "       'Base flow rate(Fb:L/h)', 'Heating/cooling water flow rate(Fc:L/h)',\n",
      "       'Heating water flow rate(Fh:L/h)',\n",
      "       'Water for injection/dilution(Fw:L/h)',\n",
      "       'Air head pressure(pressure:bar)', 'Dumped broth flow(Fremoved:L/h)',\n",
      "       'Substrate concentration(S:g/L)',\n",
      "       'Dissolved oxygen concentration(DO2:mg/L)',\n",
      "       'Penicillin concentration(P:g/L)', 'Vessel Volume(V:L)',\n",
      "       'Vessel Weight(Wt:Kg)', 'pH(pH:pH)', 'Temperature(T:K)',\n",
      "       'Generated heat(Q:kJ)',\n",
      "       'carbon dioxide percent in off-gas(CO2outgas:%)',\n",
      "       'PAA flow(Fpaa:PAA flow (L/h))',\n",
      "       'PAA concentration offline(PAA_offline:PAA (g L^{-1}))',\n",
      "       'Oil flow(Foil:L/hr)',\n",
      "       'NH_3 concentration off-line(NH3_offline:NH3 (g L^{-1}))',\n",
      "       'Oxygen Uptake Rate(OUR:(g min^{-1}))',\n",
      "       'Oxygen in percent in off-gas(O2:O2  (%))',\n",
      "       'Offline Penicillin concentration(P_offline:P(g L^{-1}))',\n",
      "       'Offline Biomass concentratio(X_offline:X(g L^{-1}))',\n",
      "       'Carbon evolution rate(CER:g/h)', 'Ammonia shots(NH3_shots:kgs)',\n",
      "       'Viscosity(Viscosity_offline:centPoise)',\n",
      "       'Fault reference(Fault_ref:Fault ref)',\n",
      "       '0 - Recipe driven 1 - Operator controlled(Control_ref:Control ref)',\n",
      "       '1- No Raman spec', ' 1-Raman spec recorded',\n",
      "       '2-PAT control(PAT_ref:PAT ref)',\n",
      "       'Batch reference(Batch_ref:Batch ref)', 'Batch ID', 'Fault flag',\n",
      "       '2400', '2399', '2398', '2397', '2396', '2395'],\n",
      "      dtype='object')\n"
     ]
    }
   ],
   "source": [
    "print(bdf.columns[:40])"
   ]
  },
  {
   "cell_type": "code",
   "execution_count": 6,
   "id": "3e6d5bbf",
   "metadata": {},
   "outputs": [
    {
     "name": "stdout",
     "output_type": "stream",
     "text": [
      "Number of NaN cells in each column from column 40 onwards:\n",
      "2399    0\n",
      "2398    0\n",
      "2397    0\n",
      "2396    0\n",
      "2395    0\n",
      "       ..\n",
      "2304    0\n",
      "2303    0\n",
      "2302    0\n",
      "2301    0\n",
      "2300    0\n",
      "Length: 100, dtype: int64\n"
     ]
    }
   ],
   "source": [
    "#\n",
    "nan_count = bdf.iloc[:, 40:].isna().sum()\n",
    "\n",
    "print(\"Number of NaN cells in each column from column 40 onwards:\")\n",
    "print(nan_count.head(100))\n",
    "\n",
    "\n"
   ]
  },
  {
   "cell_type": "code",
   "execution_count": 7,
   "id": "0f8a209c",
   "metadata": {},
   "outputs": [
    {
     "name": "stdout",
     "output_type": "stream",
     "text": [
      "Columns with NA values from column 40 onwards:\n",
      "Index(['202', '201'], dtype='object')\n"
     ]
    }
   ],
   "source": [
    "nan_columns = bdf.iloc[:, 40:].columns[bdf.iloc[:, 40:].isna().any()]\n",
    "\n",
    "if len(nan_columns) > 0:\n",
    "    print(\"Columns with NA values from column 40 onwards:\")\n",
    "    print(nan_columns)\n",
    "else:\n",
    "    print(\"No columns with NA values from column 40 onwards.\")"
   ]
  },
  {
   "cell_type": "code",
   "execution_count": 8,
   "id": "da143c8a",
   "metadata": {},
   "outputs": [
    {
     "name": "stdout",
     "output_type": "stream",
     "text": [
      "Indexes where time is 0.2: [0, 1130, 2280, 3670, 4820, 5715, 6865, 8025, 9175, 10435, 11585, 12595, 13745, 14825, 15975, 16880, 18030, 18970, 20120, 21155, 22305, 23445, 24595, 25915, 27065, 28370, 29520, 30575, 31725, 33175, 34325, 35575, 36725, 38025, 39175, 40155, 41305, 42355, 43505, 44680, 45830, 47045, 48195, 49350, 50500, 51810, 52960, 54100, 55250, 56410, 57560, 58685, 59835, 60800, 61950, 63070, 64220, 65390, 66540, 67560, 68710, 69915, 71065, 72215, 73365, 74520, 75670, 76505, 77655, 78780, 79930, 81000, 82150, 83330, 84480, 85440, 86590, 87615, 88765, 89940, 91090, 92190, 93340, 94545, 95695, 96695, 97845, 98955, 100105, 101260, 102410, 103700, 104850, 105900, 107050, 108105, 109255, 110380, 111530, 112785]\n"
     ]
    }
   ],
   "source": [
    "# Collect indexes where time is 0.2\n",
    "indexes_0_2 = [index for index, row in bdf.iterrows() if row['Time (h)'] == 0.2]\n",
    "\n",
    "# Print all the indexes\n",
    "print(\"Indexes where time is 0.2:\", indexes_0_2)\n"
   ]
  },
  {
   "cell_type": "code",
   "execution_count": 44,
   "id": "02677420",
   "metadata": {},
   "outputs": [
    {
     "name": "stdout",
     "output_type": "stream",
     "text": [
      "Batch 1 to 30: [0, 1130, 2280, 3670, 4820, 5715, 6865, 8025, 9175, 10435, 11585, 12595, 13745, 14825, 15975, 16880, 18030, 18970, 20120, 21155, 22305, 23445, 24595, 25915, 27065, 28370, 29520, 30575, 31725, 33175]\n",
      "Batch 31 to 60: [34325, 35575, 36725, 38025, 39175, 40155, 41305, 42355, 43505, 44680, 45830, 47045, 48195, 49350, 50500, 51810, 52960, 54100, 55250, 56410, 57560, 58685, 59835, 60800, 61950, 63070, 64220, 65390, 66540, 67560]\n",
      "Batch 61 to 90: [68710, 69915, 71065, 72215, 73365, 74520, 75670, 76505, 77655, 78780, 79930, 81000, 82150, 83330, 84480, 85440, 86590, 87615, 88765, 89940, 91090, 92190, 93340, 94545, 95695, 96695, 97845, 98955, 100105, 101260]\n",
      "Batch 91 to 100: [102410, 103700, 104850, 105900, 107050, 108105, 109255, 110380, 111530, 112785]\n"
     ]
    }
   ],
   "source": [
    "# Define the array\n",
    "target_array = [0, 1130, 2280, 3670, 4820, 5715, 6865, 8025, 9175, 10435, 11585, 12595, 13745, 14825, 15975, 16880, 18030, 18970, 20120, 21155, 22305, 23445, 24595, 25915, 27065, 28370, 29520, 30575, 31725, 33175, 34325, 35575, 36725, 38025, 39175, 40155, 41305, 42355, 43505, 44680, 45830, 47045, 48195, 49350, 50500, 51810, 52960, 54100, 55250, 56410, 57560, 58685, 59835, 60800, 61950, 63070, 64220, 65390, 66540, 67560, 68710, 69915, 71065, 72215, 73365, 74520, 75670, 76505, 77655, 78780, 79930, 81000, 82150, 83330, 84480, 85440, 86590, 87615, 88765, 89940, 91090, 92190, 93340, 94545, 95695, 96695, 97845, 98955, 100105, 101260, 102410, 103700, 104850, 105900, 107050, 108105, 109255, 110380, 111530, 112785]\n",
    "\n",
    "# Separate the target_array into four lists\n",
    "batch_1_to_30 = target_array[:30]\n",
    "batch_31_to_60 = target_array[30:60]\n",
    "batch_61_to_90 = target_array[60:90]\n",
    "batch_91_to_100 = target_array[90:]\n",
    "\n",
    "# Print the separated lists\n",
    "print(\"Batch 1 to 30:\", batch_1_to_30)\n",
    "print(\"Batch 31 to 60:\", batch_31_to_60)\n",
    "print(\"Batch 61 to 90:\", batch_61_to_90)\n",
    "print(\"Batch 91 to 100:\", batch_91_to_100)\n"
   ]
  },
  {
   "cell_type": "code",
   "execution_count": 47,
   "id": "ba4375c5",
   "metadata": {},
   "outputs": [
    {
     "name": "stdout",
     "output_type": "stream",
     "text": [
      "      Time (h)  Aeration rate(Fg:L/h)  Agitator RPM(RPM:RPM)  \\\n",
      "0          0.2                     30                    100   \n",
      "1          0.4                     30                    100   \n",
      "2          0.6                     30                    100   \n",
      "3          0.8                     30                    100   \n",
      "4          1.0                     30                    100   \n",
      "...        ...                    ...                    ...   \n",
      "1125     225.2                     65                    100   \n",
      "1126     225.4                     65                    100   \n",
      "1127     225.6                     65                    100   \n",
      "1128     225.8                     65                    100   \n",
      "1129     226.0                     65                    100   \n",
      "\n",
      "      Sugar feed rate(Fs:L/h)  Acid flow rate(Fa:L/h)  Base flow rate(Fb:L/h)  \\\n",
      "0                           8                  0.0000                  30.118   \n",
      "1                           8                  0.0000                  51.221   \n",
      "2                           8                  0.0000                  54.302   \n",
      "3                           8                  0.0000                  37.816   \n",
      "4                           8                  0.5181                  18.908   \n",
      "...                       ...                     ...                     ...   \n",
      "1125                       80                  0.0000                 139.360   \n",
      "1126                       80                  0.0000                 154.080   \n",
      "1127                       80                  0.0000                 170.490   \n",
      "1128                       80                  0.0000                 186.170   \n",
      "1129                       80                  0.0000                 200.300   \n",
      "\n",
      "      Heating/cooling water flow rate(Fc:L/h)  \\\n",
      "0                                      9.8335   \n",
      "1                                     18.1550   \n",
      "2                                      9.5982   \n",
      "3                                      4.3395   \n",
      "4                                      1.1045   \n",
      "...                                       ...   \n",
      "1125                                  18.4560   \n",
      "1126                                  51.1230   \n",
      "1127                                  15.3370   \n",
      "1128                                  86.8890   \n",
      "1129                                  42.8750   \n",
      "\n",
      "      Heating water flow rate(Fh:L/h)  Water for injection/dilution(Fw:L/h)  \\\n",
      "0                              0.0001                                     0   \n",
      "1                              0.0001                                     0   \n",
      "2                              0.0001                                     0   \n",
      "3                              0.0001                                     0   \n",
      "4                              0.0001                                     0   \n",
      "...                               ...                                   ...   \n",
      "1125                          80.4970                                   250   \n",
      "1126                           8.0497                                   250   \n",
      "1127                         127.2700                                   250   \n",
      "1128                          12.7270                                   250   \n",
      "1129                           1.2727                                   250   \n",
      "\n",
      "      Air head pressure(pressure:bar)  ...        210        209        208  \\\n",
      "0                                 0.6  ...        0.0        0.0        0.0   \n",
      "1                                 0.6  ...        0.0        0.0        0.0   \n",
      "2                                 0.6  ...        0.0        0.0        0.0   \n",
      "3                                 0.6  ...        0.0        0.0        0.0   \n",
      "4                                 0.6  ...        0.0        0.0        0.0   \n",
      "...                               ...  ...        ...        ...        ...   \n",
      "1125                              0.9  ...  2414900.0  2423800.0  2432000.0   \n",
      "1126                              0.9  ...  2389400.0  2398100.0  2406100.0   \n",
      "1127                              0.9  ...  2369000.0  2377800.0  2385800.0   \n",
      "1128                              0.9  ...  2380000.0  2388700.0  2396700.0   \n",
      "1129                              0.9  ...  2411100.0  2420100.0  2428300.0   \n",
      "\n",
      "            207        206        205        204        203  202  201  \n",
      "0           0.0        0.0        0.0        0.0        0.0  NaN  NaN  \n",
      "1           0.0        0.0        0.0        0.0        0.0  NaN  NaN  \n",
      "2           0.0        0.0        0.0        0.0        0.0  NaN  NaN  \n",
      "3           0.0        0.0        0.0        0.0        0.0  NaN  NaN  \n",
      "4           0.0        0.0        0.0        0.0        0.0  NaN  NaN  \n",
      "...         ...        ...        ...        ...        ...  ...  ...  \n",
      "1125  2438900.0  2443900.0  2446800.0  2447900.0  2447500.0  NaN  NaN  \n",
      "1126  2412800.0  2417600.0  2420400.0  2421400.0  2421400.0  NaN  NaN  \n",
      "1127  2392700.0  2397600.0  2400700.0  2402000.0  2401600.0  NaN  NaN  \n",
      "1128  2403300.0  2408000.0  2410500.0  2411200.0  2410800.0  NaN  NaN  \n",
      "1129  2435200.0  2440100.0  2443200.0  2444800.0  2445500.0  NaN  NaN  \n",
      "\n",
      "[1130 rows x 2239 columns]\n"
     ]
    }
   ],
   "source": [
    "\n",
    "# Get the DataFrame containing just the first 1129 rows\n",
    "batch_1_df = bdf.iloc[:1130]\n",
    "\n",
    "# Display the DataFrame\n",
    "print(batch_1_df)\n",
    "\n",
    "# Save the DataFrame as Batch_1.csv\n",
    "batch_1_df.to_csv('Batch_1.csv', index=False)\n",
    "\n"
   ]
  },
  {
   "cell_type": "markdown",
   "id": "10761b57",
   "metadata": {},
   "source": [
    "### Saving The first 30 Batches - Batches 1-30: Controlled by recipe driven approach"
   ]
  },
  {
   "cell_type": "code",
   "execution_count": 49,
   "id": "0289885b",
   "metadata": {},
   "outputs": [],
   "source": [
    "# Define the indexes where time is 0.2\n",
    "time_0_2_indexes = [0, 1130, 2280, 3670, 4820, 5715, 6865, 8025, 9175, 10435, 11585, \n",
    "                     12595, 13745, 14825, 15975, 16880, 18030, 18970, 20120, 21155, \n",
    "                     22305, 23445, 24595, 25915, 27065, 28370, 29520, 30575, 31725, 33175, 34325]\n",
    "\n",
    "# Iterate over the indexes to trim the dataset and save each batch as a CSV file\n",
    "for i, index in enumerate(time_0_2_indexes[:-1]):\n",
    "    start_index = index\n",
    "    end_index = time_0_2_indexes[i + 1] - 1  # End one row before the next 0.2 time\n",
    "    batch_df = bdf.iloc[start_index:end_index+1]\n",
    "    \n",
    "    # Save the batch as a CSV file\n",
    "    batch_df.to_csv(f'Batch_{i+1}.csv', index=False)\n"
   ]
  },
  {
   "cell_type": "markdown",
   "id": "29c6e4a0",
   "metadata": {},
   "source": [
    "### Saving Batches 31-60: Controlled by Operators"
   ]
  },
  {
   "cell_type": "code",
   "execution_count": 52,
   "id": "2dd2db93",
   "metadata": {},
   "outputs": [],
   "source": [
    "# Define the indexes for batches 31 to 60 where time is 0.2\n",
    "batch_31_to_60_indexes = [34325, 35575, 36725, 38025, 39175, 40155, 41305, 42355, 43505, 44680, 45830, \n",
    "                          47045, 48195, 49350, 50500, 51810, 52960, 54100, \n",
    "                          55250, 56410, 57560, 58685, 59835, 60800, 61950, \n",
    "                          63070, 64220, 65390, 66540, 67560, 68710, ]\n",
    "\n",
    "# Iterate over the indexes to trim the dataset and save each batch as a CSV file\n",
    "for i, index in enumerate(batch_31_to_60_indexes[:-1]):\n",
    "    start_index = index\n",
    "    end_index = batch_31_to_60_indexes[i + 1] - 1  # End one row before the next 0.2 time\n",
    "    batch_df = bdf.iloc[start_index:end_index+1]\n",
    "    \n",
    "    # Save the batch as a CSV file\n",
    "    batch_df.to_csv(f'Batch_{i+31}.csv', index=False)\n"
   ]
  },
  {
   "cell_type": "markdown",
   "id": "b3f58495",
   "metadata": {},
   "source": [
    "### Saving Batches 61-90:Controlled by an Advanced Process Control (APC) solution using the Raman spectroscopy"
   ]
  },
  {
   "cell_type": "code",
   "execution_count": 55,
   "id": "36e2c594",
   "metadata": {},
   "outputs": [],
   "source": [
    "# Define the indexes for batches 61 to 90 where time is 0.2\n",
    "batch_61_to_90_indexes = [68710, 69915, 71065, 72215, 73365, 74520, 75670, 76505, 77655, 78780, 79930, 81000,\n",
    "                           82150, 83330, 84480, 85440, 86590, 87615, 88765, 89940, 91090, 92190, \n",
    "                           93340, 94545, 95695, 96695, 97845, 98955, 100105, 101260, 102410]\n",
    "\n",
    "# Iterate over the indexes to trim the dataset and save each batch as a CSV file\n",
    "for i, index in enumerate(batch_61_to_90_indexes[:-1]):\n",
    "    start_index = index\n",
    "    end_index = batch_61_to_90_indexes[i + 1] - 1  # End one row before the next 0.2 time\n",
    "    batch_df = bdf.iloc[start_index:end_index+1]\n",
    "    \n",
    "    # Save the batch as a CSV file\n",
    "    batch_df.to_csv(f'Batch_{i+61}.csv', index=False)\n"
   ]
  },
  {
   "cell_type": "markdown",
   "id": "3f967eea",
   "metadata": {},
   "source": [
    "### Saving Batches 91-100:Contain faults resulting in process deviations."
   ]
  },
  {
   "cell_type": "code",
   "execution_count": 58,
   "id": "ca678acd",
   "metadata": {},
   "outputs": [],
   "source": [
    "# Define the indexes for batches 91 to 100 where time is 0.2\n",
    "batch_91_to_100_indexes = [102410, 103700, 104850, 105900, 107050, 108105, 109255, 110380, 111530, 112785, 113935]\n",
    "\n",
    "# Iterate over the indexes to trim the dataset and save each batch as a CSV file\n",
    "for i, index in enumerate(batch_91_to_100_indexes[:-1]):\n",
    "    start_index = index\n",
    "    end_index = batch_91_to_100_indexes[i + 1] - 1  # End one row before the next 0.2 time\n",
    "    batch_df = bdf.iloc[start_index:end_index+1]\n",
    "\n",
    "    # Save the batch as a CSV file\n",
    "    batch_df.to_csv(f'Batch_{i+91}.csv', index=False)\n"
   ]
  },
  {
   "cell_type": "code",
   "execution_count": 37,
   "id": "e26008b3",
   "metadata": {},
   "outputs": [
    {
     "name": "stdout",
     "output_type": "stream",
     "text": [
      "Number of occurrences of 0.2 in the 'Time (h)' column: 100\n"
     ]
    }
   ],
   "source": [
    "# Count the occurrences of 0.2 in the \"Time (h)\" column\n",
    "count_0_2 = (bdf['Time (h)'] == 0.2).sum()\n",
    "\n",
    "print(\"Number of occurrences of 0.2 in the 'Time (h)' column:\", count_0_2)\n"
   ]
  }
 ],
 "metadata": {
  "kernelspec": {
   "display_name": "Python 3 (ipykernel)",
   "language": "python",
   "name": "python3"
  },
  "language_info": {
   "codemirror_mode": {
    "name": "ipython",
    "version": 3
   },
   "file_extension": ".py",
   "mimetype": "text/x-python",
   "name": "python",
   "nbconvert_exporter": "python",
   "pygments_lexer": "ipython3",
   "version": "3.12.0"
  }
 },
 "nbformat": 4,
 "nbformat_minor": 5
}
